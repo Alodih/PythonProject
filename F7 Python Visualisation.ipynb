{
 "cells": [
  {
   "cell_type": "code",
   "execution_count": 1,
   "metadata": {},
   "outputs": [],
   "source": [
    "import matplotlib.pyplot as plt\n",
    "import numpy as np\n",
    "import pandas as pd"
   ]
  },
  {
   "cell_type": "code",
   "execution_count": 2,
   "metadata": {},
   "outputs": [],
   "source": [
    "Data = pd.read_csv('C:/Users/chris/Pictures/Documents/College 2024/F-Unit/mhs Data for F7.csv')"
   ]
  },
  {
   "cell_type": "code",
   "execution_count": 3,
   "metadata": {},
   "outputs": [],
   "source": [
    "Data['Age'] = Data['Age'].replace('Twenty','20') #Replacing string with a number relevant to the chart\n",
    "Data['HeartRate'] = Data ['Age'].replace('Seventy', '70')\n"
   ]
  },
  {
   "cell_type": "code",
   "execution_count": 4,
   "metadata": {},
   "outputs": [
    {
     "data": {
      "text/html": [
       "<div>\n",
       "<style scoped>\n",
       "    .dataframe tbody tr th:only-of-type {\n",
       "        vertical-align: middle;\n",
       "    }\n",
       "\n",
       "    .dataframe tbody tr th {\n",
       "        vertical-align: top;\n",
       "    }\n",
       "\n",
       "    .dataframe thead th {\n",
       "        text-align: right;\n",
       "    }\n",
       "</style>\n",
       "<table border=\"1\" class=\"dataframe\">\n",
       "  <thead>\n",
       "    <tr style=\"text-align: right;\">\n",
       "      <th></th>\n",
       "      <th>Age</th>\n",
       "      <th>SystolicBP</th>\n",
       "      <th>DiastolicBP</th>\n",
       "      <th>BS</th>\n",
       "      <th>BodyTemp</th>\n",
       "      <th>HeartRate</th>\n",
       "      <th>RiskLevel</th>\n",
       "    </tr>\n",
       "  </thead>\n",
       "  <tbody>\n",
       "    <tr>\n",
       "      <th>0</th>\n",
       "      <td>25</td>\n",
       "      <td>130.0</td>\n",
       "      <td>80</td>\n",
       "      <td>15.0</td>\n",
       "      <td>98.0</td>\n",
       "      <td>25</td>\n",
       "      <td>high risk</td>\n",
       "    </tr>\n",
       "    <tr>\n",
       "      <th>1</th>\n",
       "      <td>35</td>\n",
       "      <td>140.0</td>\n",
       "      <td>90</td>\n",
       "      <td>13.0</td>\n",
       "      <td>98.0</td>\n",
       "      <td>35</td>\n",
       "      <td>high risk</td>\n",
       "    </tr>\n",
       "    <tr>\n",
       "      <th>2</th>\n",
       "      <td>29</td>\n",
       "      <td>90.0</td>\n",
       "      <td>70</td>\n",
       "      <td>8.0</td>\n",
       "      <td>100.0</td>\n",
       "      <td>29</td>\n",
       "      <td>high risk</td>\n",
       "    </tr>\n",
       "    <tr>\n",
       "      <th>3</th>\n",
       "      <td>30</td>\n",
       "      <td>140.0</td>\n",
       "      <td>85</td>\n",
       "      <td>7.0</td>\n",
       "      <td>98.0</td>\n",
       "      <td>30</td>\n",
       "      <td>high risk</td>\n",
       "    </tr>\n",
       "    <tr>\n",
       "      <th>4</th>\n",
       "      <td>35</td>\n",
       "      <td>120.0</td>\n",
       "      <td>60</td>\n",
       "      <td>6.1</td>\n",
       "      <td>98.0</td>\n",
       "      <td>35</td>\n",
       "      <td>low risk</td>\n",
       "    </tr>\n",
       "    <tr>\n",
       "      <th>...</th>\n",
       "      <td>...</td>\n",
       "      <td>...</td>\n",
       "      <td>...</td>\n",
       "      <td>...</td>\n",
       "      <td>...</td>\n",
       "      <td>...</td>\n",
       "      <td>...</td>\n",
       "    </tr>\n",
       "    <tr>\n",
       "      <th>524</th>\n",
       "      <td>32</td>\n",
       "      <td>120.0</td>\n",
       "      <td>90</td>\n",
       "      <td>7.5</td>\n",
       "      <td>98.0</td>\n",
       "      <td>32</td>\n",
       "      <td>low risk</td>\n",
       "    </tr>\n",
       "    <tr>\n",
       "      <th>525</th>\n",
       "      <td>42</td>\n",
       "      <td>120.0</td>\n",
       "      <td>80</td>\n",
       "      <td>7.5</td>\n",
       "      <td>98.0</td>\n",
       "      <td>42</td>\n",
       "      <td>low risk</td>\n",
       "    </tr>\n",
       "    <tr>\n",
       "      <th>526</th>\n",
       "      <td>42</td>\n",
       "      <td>90.0</td>\n",
       "      <td>60</td>\n",
       "      <td>7.5</td>\n",
       "      <td>98.0</td>\n",
       "      <td>42</td>\n",
       "      <td>low risk</td>\n",
       "    </tr>\n",
       "    <tr>\n",
       "      <th>527</th>\n",
       "      <td>19</td>\n",
       "      <td>120.0</td>\n",
       "      <td>80</td>\n",
       "      <td>7.0</td>\n",
       "      <td>98.0</td>\n",
       "      <td>19</td>\n",
       "      <td>low risk</td>\n",
       "    </tr>\n",
       "    <tr>\n",
       "      <th>528</th>\n",
       "      <td>15</td>\n",
       "      <td>78.0</td>\n",
       "      <td>49</td>\n",
       "      <td>7.5</td>\n",
       "      <td>98.0</td>\n",
       "      <td>15</td>\n",
       "      <td>low risk</td>\n",
       "    </tr>\n",
       "  </tbody>\n",
       "</table>\n",
       "<p>529 rows × 7 columns</p>\n",
       "</div>"
      ],
      "text/plain": [
       "    Age  SystolicBP  DiastolicBP    BS  BodyTemp HeartRate  RiskLevel\n",
       "0    25       130.0           80  15.0      98.0        25  high risk\n",
       "1    35       140.0           90  13.0      98.0        35  high risk\n",
       "2    29        90.0           70   8.0     100.0        29  high risk\n",
       "3    30       140.0           85   7.0      98.0        30  high risk\n",
       "4    35       120.0           60   6.1      98.0        35   low risk\n",
       "..   ..         ...          ...   ...       ...       ...        ...\n",
       "524  32       120.0           90   7.5      98.0        32   low risk\n",
       "525  42       120.0           80   7.5      98.0        42   low risk\n",
       "526  42        90.0           60   7.5      98.0        42   low risk\n",
       "527  19       120.0           80   7.0      98.0        19   low risk\n",
       "528  15        78.0           49   7.5      98.0        15   low risk\n",
       "\n",
       "[529 rows x 7 columns]"
      ]
     },
     "execution_count": 4,
     "metadata": {},
     "output_type": "execute_result"
    }
   ],
   "source": [
    "Data"
   ]
  },
  {
   "cell_type": "code",
   "execution_count": 5,
   "metadata": {},
   "outputs": [
    {
     "name": "stdout",
     "output_type": "stream",
     "text": [
      "<class 'pandas.core.frame.DataFrame'>\n",
      "RangeIndex: 529 entries, 0 to 528\n",
      "Data columns (total 7 columns):\n",
      " #   Column       Non-Null Count  Dtype  \n",
      "---  ------       --------------  -----  \n",
      " 0   Age          525 non-null    object \n",
      " 1   SystolicBP   526 non-null    float64\n",
      " 2   DiastolicBP  529 non-null    int64  \n",
      " 3   BS           529 non-null    float64\n",
      " 4   BodyTemp     525 non-null    float64\n",
      " 5   HeartRate    525 non-null    object \n",
      " 6   RiskLevel    529 non-null    object \n",
      "dtypes: float64(3), int64(1), object(3)\n",
      "memory usage: 29.1+ KB\n"
     ]
    }
   ],
   "source": [
    "Data.info()"
   ]
  },
  {
   "cell_type": "code",
   "execution_count": 44,
   "metadata": {},
   "outputs": [
    {
     "data": {
      "text/plain": [
       "Age            0\n",
       "SystolicBP     0\n",
       "DiastolicBP    0\n",
       "BS             0\n",
       "BodyTemp       0\n",
       "HeartRate      0\n",
       "RiskLevel      0\n",
       "dtype: int64"
      ]
     },
     "execution_count": 44,
     "metadata": {},
     "output_type": "execute_result"
    }
   ],
   "source": [
    "Data.isnull().sum()"
   ]
  },
  {
   "cell_type": "code",
   "execution_count": 7,
   "metadata": {},
   "outputs": [
    {
     "data": {
      "text/plain": [
       "array(['25', '35', '29', '30', '20', '23', '32', '42', '19', '48', '15',\n",
       "       '50', '10', '40', '21', '18', '16', '22', '49', '28', nan, '60',\n",
       "       '55', '45', '12', '31', '17', '26', '54', '44', '33', '13', '34',\n",
       "       '38', '39', '63', '14', '37', '51', '62', '43', '65', '66', '56',\n",
       "       '70', '27', '36'], dtype=object)"
      ]
     },
     "execution_count": 7,
     "metadata": {},
     "output_type": "execute_result"
    }
   ],
   "source": [
    "Data['Age'].unique() "
   ]
  },
  {
   "cell_type": "code",
   "execution_count": 40,
   "metadata": {},
   "outputs": [
    {
     "name": "stdout",
     "output_type": "stream",
     "text": [
      "   Age  SystolicBP  DiastolicBP    BS  BodyTemp HeartRate RiskLevel\n",
      "11  19       120.0           80  7.00       NaN        19  mid risk\n",
      "12  25       110.0           89  7.01       NaN        25  low risk\n"
     ]
    }
   ],
   "source": [
    "missing_values = Data[Data.isnull().any(axis=1)] #Checking for missing values\n",
    "print(missing_values)"
   ]
  },
  {
   "cell_type": "code",
   "execution_count": 9,
   "metadata": {},
   "outputs": [],
   "source": [
    "Drop = [32, 33, 34, 35] #I believe skewing the data for diminishing returns isn't worth it, when there are plenty of other data I can use\n",
    "Data = Data.drop(Drop)"
   ]
  },
  {
   "cell_type": "code",
   "execution_count": 12,
   "metadata": {},
   "outputs": [],
   "source": [
    "Data.loc[15, 'SystolicBP'] = 113"
   ]
  },
  {
   "cell_type": "code",
   "execution_count": 13,
   "metadata": {},
   "outputs": [
    {
     "data": {
      "text/plain": [
       "Age                  15\n",
       "SystolicBP        113.0\n",
       "DiastolicBP          80\n",
       "BS                 7.01\n",
       "BodyTemp           98.0\n",
       "HeartRate            15\n",
       "RiskLevel      low risk\n",
       "Name: 15, dtype: object"
      ]
     },
     "execution_count": 13,
     "metadata": {},
     "output_type": "execute_result"
    }
   ],
   "source": [
    "Data.loc[15]"
   ]
  },
  {
   "cell_type": "code",
   "execution_count": 17,
   "metadata": {},
   "outputs": [
    {
     "data": {
      "text/plain": [
       "Age                   50\n",
       "SystolicBP         140.0\n",
       "DiastolicBP           90\n",
       "BS                  15.0\n",
       "BodyTemp            98.0\n",
       "HeartRate             50\n",
       "RiskLevel      high risk\n",
       "Name: 16, dtype: object"
      ]
     },
     "execution_count": 17,
     "metadata": {},
     "output_type": "execute_result"
    }
   ],
   "source": [
    "Data.loc[16]"
   ]
  },
  {
   "cell_type": "code",
   "execution_count": 15,
   "metadata": {},
   "outputs": [],
   "source": [
    "Data.loc[16, 'SystolicBP'] = 140"
   ]
  },
  {
   "cell_type": "code",
   "execution_count": 19,
   "metadata": {},
   "outputs": [
    {
     "name": "stdout",
     "output_type": "stream",
     "text": [
      "<class 'pandas.core.frame.DataFrame'>\n",
      "Index: 525 entries, 0 to 528\n",
      "Data columns (total 7 columns):\n",
      " #   Column       Non-Null Count  Dtype  \n",
      "---  ------       --------------  -----  \n",
      " 0   Age          525 non-null    object \n",
      " 1   SystolicBP   524 non-null    float64\n",
      " 2   DiastolicBP  525 non-null    int64  \n",
      " 3   BS           525 non-null    float64\n",
      " 4   BodyTemp     521 non-null    float64\n",
      " 5   HeartRate    525 non-null    object \n",
      " 6   RiskLevel    525 non-null    object \n",
      "dtypes: float64(3), int64(1), object(3)\n",
      "memory usage: 49.0+ KB\n"
     ]
    }
   ],
   "source": [
    "Data.info()"
   ]
  },
  {
   "cell_type": "code",
   "execution_count": 27,
   "metadata": {},
   "outputs": [],
   "source": [
    "Data.loc[9, 'BodyTemp'] = 98.0"
   ]
  },
  {
   "cell_type": "code",
   "execution_count": 29,
   "metadata": {},
   "outputs": [
    {
     "data": {
      "text/plain": [
       "Age                  48\n",
       "SystolicBP        120.0\n",
       "DiastolicBP          80\n",
       "BS                 11.0\n",
       "BodyTemp           98.0\n",
       "HeartRate            48\n",
       "RiskLevel      mid risk\n",
       "Name: 14, dtype: object"
      ]
     },
     "execution_count": 29,
     "metadata": {},
     "output_type": "execute_result"
    }
   ],
   "source": [
    "Data.loc[14]"
   ]
  },
  {
   "cell_type": "code",
   "execution_count": 28,
   "metadata": {},
   "outputs": [],
   "source": [
    "Data.loc[14, 'SystolicBP'] = 120.0"
   ]
  },
  {
   "cell_type": "code",
   "execution_count": 38,
   "metadata": {},
   "outputs": [
    {
     "data": {
      "text/plain": [
       "Age                  23\n",
       "SystolicBP         90.0\n",
       "DiastolicBP          60\n",
       "BS                 7.01\n",
       "BodyTemp           90.0\n",
       "HeartRate            23\n",
       "RiskLevel      low risk\n",
       "Name: 10, dtype: object"
      ]
     },
     "execution_count": 38,
     "metadata": {},
     "output_type": "execute_result"
    }
   ],
   "source": [
    "Data.loc[10]"
   ]
  },
  {
   "cell_type": "code",
   "execution_count": 37,
   "metadata": {},
   "outputs": [],
   "source": [
    "Data.loc[10, 'BodyTemp'] = 90.0"
   ]
  },
  {
   "cell_type": "code",
   "execution_count": 41,
   "metadata": {},
   "outputs": [],
   "source": [
    "Data.loc[11, 'BodyTemp'] = 98.0"
   ]
  },
  {
   "cell_type": "code",
   "execution_count": 43,
   "metadata": {},
   "outputs": [],
   "source": [
    "Data.loc[12, 'BodyTemp'] = 98.0"
   ]
  },
  {
   "cell_type": "code",
   "execution_count": 149,
   "metadata": {},
   "outputs": [
    {
     "name": "stdout",
     "output_type": "stream",
     "text": [
      "     Age  SystolicBP  DiastolicBP    BS  BodyTemp HeartRate  RiskLevel\n",
      "0     25       130.0           80  15.0      98.0        25  high risk\n",
      "1     35       140.0           90  13.0      98.0        35  high risk\n",
      "2     29        90.0           70   8.0     100.0        29  high risk\n",
      "3     30       140.0           85   7.0      98.0        30  high risk\n",
      "4     35       120.0           60   6.1      98.0        35   low risk\n",
      "..   ...         ...          ...   ...       ...       ...        ...\n",
      "524   32       120.0           90   7.5      98.0        32   low risk\n",
      "525   42       120.0           80   7.5      98.0        42   low risk\n",
      "526   42        90.0           60   7.5      98.0        42   low risk\n",
      "527   19       120.0           80   7.0      98.0        19   low risk\n",
      "528   15        78.0           49   7.5      98.0        15   low risk\n",
      "\n",
      "[525 rows x 7 columns]\n"
     ]
    },
    {
     "data": {
      "text/plain": [
       "19.0"
      ]
     },
     "execution_count": 149,
     "metadata": {},
     "output_type": "execute_result"
    }
   ],
   "source": [
    "Data\n",
    "(print(Data))\n",
    "Data['SystolicBP'].min() #70\n",
    "Data['BS'].max() #160\n",
    "\n"
   ]
  },
  {
   "cell_type": "code",
   "execution_count": 112,
   "metadata": {},
   "outputs": [],
   "source": [
    "Data['Age'] = Data['Age'].astype(int)\n"
   ]
  },
  {
   "cell_type": "code",
   "execution_count": 190,
   "metadata": {},
   "outputs": [
    {
     "data": {
      "text/html": [
       "<div>\n",
       "<style scoped>\n",
       "    .dataframe tbody tr th:only-of-type {\n",
       "        vertical-align: middle;\n",
       "    }\n",
       "\n",
       "    .dataframe tbody tr th {\n",
       "        vertical-align: top;\n",
       "    }\n",
       "\n",
       "    .dataframe thead th {\n",
       "        text-align: right;\n",
       "    }\n",
       "</style>\n",
       "<table border=\"1\" class=\"dataframe\">\n",
       "  <thead>\n",
       "    <tr style=\"text-align: right;\">\n",
       "      <th></th>\n",
       "      <th>Age</th>\n",
       "      <th>SystolicBP</th>\n",
       "      <th>DiastolicBP</th>\n",
       "      <th>BS</th>\n",
       "      <th>BodyTemp</th>\n",
       "      <th>HeartRate</th>\n",
       "      <th>RiskLevel</th>\n",
       "      <th>BS Correct</th>\n",
       "    </tr>\n",
       "  </thead>\n",
       "  <tbody>\n",
       "    <tr>\n",
       "      <th>0</th>\n",
       "      <td>25</td>\n",
       "      <td>130.0</td>\n",
       "      <td>80</td>\n",
       "      <td>15.0</td>\n",
       "      <td>98.0</td>\n",
       "      <td>25</td>\n",
       "      <td>high risk</td>\n",
       "      <td>12.0</td>\n",
       "    </tr>\n",
       "    <tr>\n",
       "      <th>1</th>\n",
       "      <td>35</td>\n",
       "      <td>140.0</td>\n",
       "      <td>90</td>\n",
       "      <td>13.0</td>\n",
       "      <td>98.0</td>\n",
       "      <td>35</td>\n",
       "      <td>high risk</td>\n",
       "      <td>10.0</td>\n",
       "    </tr>\n",
       "    <tr>\n",
       "      <th>2</th>\n",
       "      <td>29</td>\n",
       "      <td>90.0</td>\n",
       "      <td>70</td>\n",
       "      <td>8.0</td>\n",
       "      <td>100.0</td>\n",
       "      <td>29</td>\n",
       "      <td>high risk</td>\n",
       "      <td>5.0</td>\n",
       "    </tr>\n",
       "    <tr>\n",
       "      <th>3</th>\n",
       "      <td>30</td>\n",
       "      <td>140.0</td>\n",
       "      <td>85</td>\n",
       "      <td>7.0</td>\n",
       "      <td>98.0</td>\n",
       "      <td>30</td>\n",
       "      <td>high risk</td>\n",
       "      <td>4.0</td>\n",
       "    </tr>\n",
       "    <tr>\n",
       "      <th>4</th>\n",
       "      <td>35</td>\n",
       "      <td>120.0</td>\n",
       "      <td>60</td>\n",
       "      <td>6.1</td>\n",
       "      <td>98.0</td>\n",
       "      <td>35</td>\n",
       "      <td>low risk</td>\n",
       "      <td>3.1</td>\n",
       "    </tr>\n",
       "    <tr>\n",
       "      <th>...</th>\n",
       "      <td>...</td>\n",
       "      <td>...</td>\n",
       "      <td>...</td>\n",
       "      <td>...</td>\n",
       "      <td>...</td>\n",
       "      <td>...</td>\n",
       "      <td>...</td>\n",
       "      <td>...</td>\n",
       "    </tr>\n",
       "    <tr>\n",
       "      <th>524</th>\n",
       "      <td>32</td>\n",
       "      <td>120.0</td>\n",
       "      <td>90</td>\n",
       "      <td>7.5</td>\n",
       "      <td>98.0</td>\n",
       "      <td>32</td>\n",
       "      <td>low risk</td>\n",
       "      <td>4.5</td>\n",
       "    </tr>\n",
       "    <tr>\n",
       "      <th>525</th>\n",
       "      <td>42</td>\n",
       "      <td>120.0</td>\n",
       "      <td>80</td>\n",
       "      <td>7.5</td>\n",
       "      <td>98.0</td>\n",
       "      <td>42</td>\n",
       "      <td>low risk</td>\n",
       "      <td>4.5</td>\n",
       "    </tr>\n",
       "    <tr>\n",
       "      <th>526</th>\n",
       "      <td>42</td>\n",
       "      <td>90.0</td>\n",
       "      <td>60</td>\n",
       "      <td>7.5</td>\n",
       "      <td>98.0</td>\n",
       "      <td>42</td>\n",
       "      <td>low risk</td>\n",
       "      <td>4.5</td>\n",
       "    </tr>\n",
       "    <tr>\n",
       "      <th>527</th>\n",
       "      <td>19</td>\n",
       "      <td>120.0</td>\n",
       "      <td>80</td>\n",
       "      <td>7.0</td>\n",
       "      <td>98.0</td>\n",
       "      <td>19</td>\n",
       "      <td>low risk</td>\n",
       "      <td>4.0</td>\n",
       "    </tr>\n",
       "    <tr>\n",
       "      <th>528</th>\n",
       "      <td>15</td>\n",
       "      <td>78.0</td>\n",
       "      <td>49</td>\n",
       "      <td>7.5</td>\n",
       "      <td>98.0</td>\n",
       "      <td>15</td>\n",
       "      <td>low risk</td>\n",
       "      <td>4.5</td>\n",
       "    </tr>\n",
       "  </tbody>\n",
       "</table>\n",
       "<p>525 rows × 8 columns</p>\n",
       "</div>"
      ],
      "text/plain": [
       "     Age  SystolicBP  DiastolicBP    BS  BodyTemp HeartRate  RiskLevel  \\\n",
       "0     25       130.0           80  15.0      98.0        25  high risk   \n",
       "1     35       140.0           90  13.0      98.0        35  high risk   \n",
       "2     29        90.0           70   8.0     100.0        29  high risk   \n",
       "3     30       140.0           85   7.0      98.0        30  high risk   \n",
       "4     35       120.0           60   6.1      98.0        35   low risk   \n",
       "..   ...         ...          ...   ...       ...       ...        ...   \n",
       "524   32       120.0           90   7.5      98.0        32   low risk   \n",
       "525   42       120.0           80   7.5      98.0        42   low risk   \n",
       "526   42        90.0           60   7.5      98.0        42   low risk   \n",
       "527   19       120.0           80   7.0      98.0        19   low risk   \n",
       "528   15        78.0           49   7.5      98.0        15   low risk   \n",
       "\n",
       "     BS Correct  \n",
       "0          12.0  \n",
       "1          10.0  \n",
       "2           5.0  \n",
       "3           4.0  \n",
       "4           3.1  \n",
       "..          ...  \n",
       "524         4.5  \n",
       "525         4.5  \n",
       "526         4.5  \n",
       "527         4.0  \n",
       "528         4.5  \n",
       "\n",
       "[525 rows x 8 columns]"
      ]
     },
     "execution_count": 190,
     "metadata": {},
     "output_type": "execute_result"
    }
   ],
   "source": [
    "Data"
   ]
  },
  {
   "cell_type": "markdown",
   "metadata": {},
   "source": [
    "Corrected data"
   ]
  },
  {
   "cell_type": "code",
   "execution_count": 189,
   "metadata": {},
   "outputs": [
    {
     "name": "stdout",
     "output_type": "stream",
     "text": [
      "     Age  SystolicBP  DiastolicBP    BS  BodyTemp HeartRate  RiskLevel  \\\n",
      "0     25       130.0           80  15.0      98.0        25  high risk   \n",
      "1     35       140.0           90  13.0      98.0        35  high risk   \n",
      "2     29        90.0           70   8.0     100.0        29  high risk   \n",
      "3     30       140.0           85   7.0      98.0        30  high risk   \n",
      "4     35       120.0           60   6.1      98.0        35   low risk   \n",
      "..   ...         ...          ...   ...       ...       ...        ...   \n",
      "524   32       120.0           90   7.5      98.0        32   low risk   \n",
      "525   42       120.0           80   7.5      98.0        42   low risk   \n",
      "526   42        90.0           60   7.5      98.0        42   low risk   \n",
      "527   19       120.0           80   7.0      98.0        19   low risk   \n",
      "528   15        78.0           49   7.5      98.0        15   low risk   \n",
      "\n",
      "     BS Correct  \n",
      "0          12.0  \n",
      "1          10.0  \n",
      "2           5.0  \n",
      "3           4.0  \n",
      "4           3.1  \n",
      "..          ...  \n",
      "524         4.5  \n",
      "525         4.5  \n",
      "526         4.5  \n",
      "527         4.0  \n",
      "528         4.5  \n",
      "\n",
      "[525 rows x 8 columns]\n"
     ]
    }
   ],
   "source": [
    "Data['BS Correct'] = Data['BS'] - 3.0\n",
    "print(Data)"
   ]
  },
  {
   "cell_type": "code",
   "execution_count": 147,
   "metadata": {},
   "outputs": [],
   "source": [
    "import seaborn as sns\n",
    "sns.set()"
   ]
  },
  {
   "cell_type": "code",
   "execution_count": 191,
   "metadata": {},
   "outputs": [
    {
     "data": {
      "image/png": "[encoded data removed]",
      "text/plain": [
       "<Figure size 1000x600 with 1 Axes>"
      ]
     },
     "metadata": {},
     "output_type": "display_data"
    }
   ],
   "source": [
    "\n",
    "plt.figure(figsize=(10,6))\n",
    "colors = {'low risk': 'green', 'mid risk': 'orange', 'high risk': 'red'}\n",
    "plt.scatter(Data['Age'], Data['BS Correct'], c=Data['RiskLevel'].map(colors), marker='o')\n",
    "plt.xlabel('Age')\n",
    "plt.ylabel('Blood Sugar')\n",
    "plt.title('Correlation Between Age Groups And Their Risk Based On Blood Sugar Levels')\n",
    "plt.show()\n"
   ]
  },
  {
   "cell_type": "markdown",
   "metadata": {},
   "source": [
    "So what I can see is the higher the Blood sugar the more at risk you are and the older you get the less data there is but there are a lot more older folks at medium or high risk.\n",
    "The higher the blood sugar the more at risk the patient and baby is."
   ]
  },
  {
   "cell_type": "markdown",
   "metadata": {},
   "source": [
    "<span style=\"font-size: larger;\"> Workings out I did on a separate slide so I didn't muddle things up (I haven't activated it on this page)"
   ]
  },
  {
   "cell_type": "code",
   "execution_count": null,
   "metadata": {},
   "outputs": [],
   "source": [
    "import matplotlib.pyplot as plt\n",
    "import numpy as np\n",
    "import pandas as pd\n",
    "import seaborn as sb"
   ]
  },
  {
   "cell_type": "code",
   "execution_count": null,
   "metadata": {},
   "outputs": [],
   "source": [
    "Data = pd.read_csv('C:/Users/chris/Pictures/Documents/College 2024/F-Unit/mhs Data for F7.csv')\n",
    "Data"
   ]
  },
  {
   "cell_type": "code",
   "execution_count": null,
   "metadata": {},
   "outputs": [],
   "source": [
    "Age = Data['Age'].value_counts() #checking most consistent values for each column\n",
    "print(Age)\n"
   ]
  },
  {
   "cell_type": "code",
   "execution_count": null,
   "metadata": {},
   "outputs": [],
   "source": [
    "BP = Data['SystolicBP'].value_counts() #checking most consistent values\n",
    "print(BP)"
   ]
  },
  {
   "cell_type": "code",
   "execution_count": null,
   "metadata": {},
   "outputs": [],
   "source": [
    "specific_integers = [120, 120] #checking to see what columns have similar columns to replace the value with as to keep the data similar and prevent outliers\n",
    "result = Data[Data['SystolicBP'].isin(specific_integers)]\n",
    "print(result)"
   ]
  },
  {
   "cell_type": "markdown",
   "metadata": {},
   "source": [
    "14/48/NaN/80/11.00/98.0/48/mid risk - They line up fairly well"
   ]
  },
  {
   "cell_type": "code",
   "execution_count": null,
   "metadata": {},
   "outputs": [],
   "source": [
    "risk_level_condition = Data['RiskLevel'].isin(['low risk'])\n",
    "age_condition = (Data['Age'] < '18')\n",
    "result = Data[risk_level_condition & age_condition]\n",
    "print(result)"
   ]
  },
  {
   "cell_type": "markdown",
   "metadata": {},
   "source": [
    "15/NaN/80/7.01/98.0/15/low risk - Around the same"
   ]
  },
  {
   "cell_type": "markdown",
   "metadata": {},
   "source": [
    "<span style=\"font-size: larger;\">Cell 9: Missing Diastolic BP value"
   ]
  },
  {
   "cell_type": "code",
   "execution_count": null,
   "metadata": {},
   "outputs": [],
   "source": [
    "Data.loc[9]"
   ]
  },
  {
   "cell_type": "code",
   "execution_count": null,
   "metadata": {},
   "outputs": [],
   "source": [
    "DP = Data['DiastolicBP'].value_counts() #checking most consistent values\n",
    "print(DP)"
   ]
  },
  {
   "cell_type": "code",
   "execution_count": null,
   "metadata": {},
   "outputs": [],
   "source": [
    "risk_level_condition = Data['RiskLevel'].isin(['high risk']) #turns age into integer and finds the age between 35 and 50\n",
    "Data['Age'] = pd.to_numeric(Data['Age'])\n",
    "if 'Age' in Data.columns and Data['Age'].dtype.kind:\n",
    "    age_condition = (Data['Age'] >= 35) & (Data['Age'] <= 50)\n",
    "else:\n",
    "    age_condition = False\n",
    "    \n",
    "result = Data[risk_level_condition & age_condition]\n",
    "print(result)"
   ]
  },
  {
   "cell_type": "code",
   "execution_count": null,
   "metadata": {},
   "outputs": [],
   "source": [
    "Data.info()"
   ]
  },
  {
   "cell_type": "code",
   "execution_count": null,
   "metadata": {},
   "outputs": [],
   "source": [
    "Data.loc[9]"
   ]
  },
  {
   "cell_type": "code",
   "execution_count": null,
   "metadata": {},
   "outputs": [],
   "source": [
    "risk_level_condition = Data['RiskLevel'].isin(['high risk'])\n",
    "age_condition = (Data['Age'] >= 36) & (Data['Age'] <= 50)\n",
    "result_DP = Data[risk_level_condition & age_condition]\n",
    "print(result_DP)"
   ]
  },
  {
   "cell_type": "markdown",
   "metadata": {},
   "source": [
    "<span style=\"font-size: larger;\"> [14] missing systolic"
   ]
  },
  {
   "cell_type": "code",
   "execution_count": null,
   "metadata": {},
   "outputs": [],
   "source": [
    "risk_level_condition = Data['RiskLevel'].isin(['mid risk'])\n",
    "age_condition = (Data['Age'] >= 38) & (Data['Age'] <= 58)\n",
    "result_DP = Data[risk_level_condition & age_condition]\n",
    "print(result_DP)"
   ]
  },
  {
   "cell_type": "code",
   "execution_count": null,
   "metadata": {},
   "outputs": [],
   "source": [
    "risk_level_condition = Data['RiskLevel'].isin(['mid risk'])\n",
    "age_condition = (Data['Age'] >= 38) & (Data['Age'] <= 58)\n",
    "result_DP = Data[risk_level_condition & age_condition]\n",
    "median_systolic_bp = result_DP['SystolicBP'].median()\n",
    "print(median_systolic_bp)"
   ]
  },
  {
   "cell_type": "markdown",
   "metadata": {},
   "source": [
    "<span style=\"font-size: larger;\"> [10] missing Body temp"
   ]
  },
  {
   "cell_type": "code",
   "execution_count": null,
   "metadata": {},
   "outputs": [],
   "source": [
    "risk_level_condition = Data['RiskLevel'].isin(['low risk'])\n",
    "age_condition = (Data['Age'] >= 19) & (Data['Age'] <= 26) #narrowed down the ages to give me a more condensed view of the people within the age bracket\n",
    "result_BT = Data[risk_level_condition & age_condition]\n",
    "print(result_BT)"
   ]
  },
  {
   "cell_type": "code",
   "execution_count": null,
   "metadata": {},
   "outputs": [],
   "source": [
    "risk_level_condition = Data['RiskLevel'].isin(['low risk'])\n",
    "age_condition = (Data['Age'] >= 38) & (Data['Age'] <= 58)\n",
    "result_BT = Data[risk_level_condition & age_condition]\n",
    "median_BT = result_BT['BodyTemp'].mode()\n",
    "print(median_BT)"
   ]
  },
  {
   "cell_type": "markdown",
   "metadata": {},
   "source": [
    "<span style=\"font-size: larger;\"> [11] Missin Body Temp"
   ]
  },
  {
   "cell_type": "code",
   "execution_count": null,
   "metadata": {},
   "outputs": [],
   "source": [
    "Data.loc[11]"
   ]
  },
  {
   "cell_type": "code",
   "execution_count": null,
   "metadata": {},
   "outputs": [],
   "source": [
    "risk_level_condition = Data['RiskLevel'].isin(['mid risk'])\n",
    "age_condition = (Data['Age'] >= 18) & (Data['Age'] <= 20) #narrowed down the ages to give me a more condensed view of the people within the age bracket\n",
    "result_BT = Data[risk_level_condition & age_condition]\n",
    "print(result_BT) #98 is the most consistent"
   ]
  },
  {
   "cell_type": "code",
   "execution_count": null,
   "metadata": {},
   "outputs": [],
   "source": [
    "Data.loc[12]"
   ]
  },
  {
   "cell_type": "code",
   "execution_count": null,
   "metadata": {},
   "outputs": [],
   "source": [
    "risk_level_condition = Data['RiskLevel'].isin(['mid risk'])\n",
    "age_condition = (Data['Age'] >= 23) & (Data['Age'] <= 27) #narrowed down the ages to give me a more condensed view of the people within the age bracket\n",
    "result_BT = Data[risk_level_condition & age_condition]\n",
    "print(result_BT) #98 is the most consistent"
   ]
  },
  {
   "cell_type": "code",
   "execution_count": null,
   "metadata": {},
   "outputs": [],
   "source": [
    "Data['Age'].min()\n",
    "Data['Age'].max()"
   ]
  }
 ],
 "metadata": {
  "kernelspec": {
   "display_name": "Python 3",
   "language": "python",
   "name": "python3"
  },
  "language_info": {
   "codemirror_mode": {
    "name": "ipython",
    "version": 3
   },
   "file_extension": ".py",
   "mimetype": "text/x-python",
   "name": "python",
   "nbconvert_exporter": "python",
   "pygments_lexer": "ipython3",
   "version": "3.12.1"
  }
 },
 "nbformat": 4,
 "nbformat_minor": 2
}
